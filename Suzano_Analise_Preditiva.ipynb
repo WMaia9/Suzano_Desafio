{
  "nbformat": 4,
  "nbformat_minor": 0,
  "metadata": {
    "colab": {
      "name": "Suzano_Analise Preditiva",
      "provenance": [],
      "collapsed_sections": [
        "jr3HP4gU6A9i"
      ],
      "toc_visible": true,
      "machine_shape": "hm"
    },
    "kernelspec": {
      "name": "python3",
      "display_name": "Python 3"
    },
    "language_info": {
      "name": "python"
    },
    "accelerator": "GPU"
  },
  "cells": [
    {
      "cell_type": "markdown",
      "metadata": {
        "id": "_W1G__NANwDY"
      },
      "source": [
        "# Configuração do Ambiente"
      ]
    },
    {
      "cell_type": "code",
      "metadata": {
        "colab": {
          "base_uri": "https://localhost:8080/"
        },
        "id": "PvgEv8WTwe9h",
        "outputId": "164fe025-720d-4b88-e9fa-cc66c58265e1"
      },
      "source": [
        "gpu_info = !nvidia-smi\n",
        "gpu_info = '\\n'.join(gpu_info)\n",
        "if gpu_info.find('failed') >= 0:\n",
        "  print('Select the Runtime > \"Change runtime type\" menu to enable a GPU accelerator, ')\n",
        "  print('and then re-execute this cell.')\n",
        "else:\n",
        "  print(gpu_info)"
      ],
      "execution_count": null,
      "outputs": [
        {
          "output_type": "stream",
          "text": [
            "Fri Jul 16 17:18:49 2021       \n",
            "+-----------------------------------------------------------------------------+\n",
            "| NVIDIA-SMI 470.42.01    Driver Version: 460.32.03    CUDA Version: 11.2     |\n",
            "|-------------------------------+----------------------+----------------------+\n",
            "| GPU  Name        Persistence-M| Bus-Id        Disp.A | Volatile Uncorr. ECC |\n",
            "| Fan  Temp  Perf  Pwr:Usage/Cap|         Memory-Usage | GPU-Util  Compute M. |\n",
            "|                               |                      |               MIG M. |\n",
            "|===============================+======================+======================|\n",
            "|   0  Tesla V100-SXM2...  Off  | 00000000:00:04.0 Off |                    0 |\n",
            "| N/A   38C    P0    24W / 300W |      0MiB / 16160MiB |      0%      Default |\n",
            "|                               |                      |                  N/A |\n",
            "+-------------------------------+----------------------+----------------------+\n",
            "                                                                               \n",
            "+-----------------------------------------------------------------------------+\n",
            "| Processes:                                                                  |\n",
            "|  GPU   GI   CI        PID   Type   Process name                  GPU Memory |\n",
            "|        ID   ID                                                   Usage      |\n",
            "|=============================================================================|\n",
            "|  No running processes found                                                 |\n",
            "+-----------------------------------------------------------------------------+\n"
          ],
          "name": "stdout"
        }
      ]
    },
    {
      "cell_type": "code",
      "metadata": {
        "colab": {
          "base_uri": "https://localhost:8080/"
        },
        "id": "ZkDBxoc1wmRs",
        "outputId": "15e3e06e-6306-47dd-a488-9d8000a17bef"
      },
      "source": [
        "from psutil import virtual_memory\n",
        "ram_gb = virtual_memory().total / 1e9\n",
        "print('Your runtime has {:.1f} gigabytes of available RAM\\n'.format(ram_gb))\n",
        "\n",
        "if ram_gb < 20:\n",
        "  print('To enable a high-RAM runtime, select the Runtime > \"Change runtime type\"')\n",
        "  print('menu, and then select High-RAM in the Runtime shape dropdown. Then, ')\n",
        "  print('re-execute this cell.')\n",
        "else:\n",
        "  print('You are using a high-RAM runtime!')"
      ],
      "execution_count": null,
      "outputs": [
        {
          "output_type": "stream",
          "text": [
            "Your runtime has 27.3 gigabytes of available RAM\n",
            "\n",
            "You are using a high-RAM runtime!\n"
          ],
          "name": "stdout"
        }
      ]
    },
    {
      "cell_type": "code",
      "metadata": {
        "id": "B0vTXr3JvS59"
      },
      "source": [
        "names=[\"id\", \"runtime\", \"Setting1\", 'Setting2', 'Setting3', 'Tag1', 'Tag2', 'Tag3', 'Tag4', \n",
        "       'Tag5','Tag6', 'Tag7', 'Tag8', 'Tag9', 'Tag10', 'Tag11', 'Tag12', 'Tag13', \n",
        "       'Tag14', 'Tag15', 'Tag16', 'Tag17', 'Tag18', 'Tag19', 'Tag20', 'Tag21']"
      ],
      "execution_count": null,
      "outputs": []
    },
    {
      "cell_type": "markdown",
      "metadata": {
        "id": "jr3HP4gU6A9i"
      },
      "source": [
        "# Classificação binária\n",
        "Preveja se um ativo falhará dentro de um determinado período (por exemplo, ciclos)"
      ]
    },
    {
      "cell_type": "code",
      "metadata": {
        "id": "-fWyVMMhvxFd"
      },
      "source": [
        "import keras\n",
        "import pandas as pd\n",
        "import numpy as np\n",
        "import matplotlib.pyplot as plt\n",
        "import os\n",
        "import random\n",
        "\n",
        "np.random.seed(1234)  \n",
        "PYTHONHASHSEED = 0\n",
        "\n",
        "from sklearn import preprocessing\n",
        "from sklearn.metrics import confusion_matrix, recall_score, precision_score\n",
        "from keras.models import Sequential,load_model\n",
        "from keras.layers import Dense, Dropout, LSTM"
      ],
      "execution_count": null,
      "outputs": []
    },
    {
      "cell_type": "markdown",
      "metadata": {
        "id": "X8uJW8eq8ZCJ"
      },
      "source": [
        "## Lendo os Dados"
      ]
    },
    {
      "cell_type": "code",
      "metadata": {
        "id": "DzUlRe8SvlnA"
      },
      "source": [
        "#Dados de Treino\n",
        "df = pd.read_csv('PM_train.txt', header=None, delimiter=r\"\\s+\", names=names)\n",
        "df = df.sort_values(['id','runtime'])\n",
        "\n",
        "#Dados de Teste\n",
        "df_test = pd.read_csv('PM_test.txt', header=None, delimiter=r\"\\s+\", names=names)"
      ],
      "execution_count": null,
      "outputs": []
    },
    {
      "cell_type": "markdown",
      "metadata": {
        "id": "OkohOyte_dup"
      },
      "source": [
        "##Fazendo uma coluna para os dados RUL\n",
        "De acordo com o documento de descrição de dados, o conjunto de dados contém várias unidades, cada unidade começa em um determinado ponto de degradação e os dados de medição terminam bem antes da unidade ser desativada por quebra.\n",
        "\n",
        "Portanto, suponha que, para o último tempo de medição que está disponível para uma unidade, as unidades RUL = 0 (parou de medir pouco antes da quebra da máquina)"
      ]
    },
    {
      "cell_type": "code",
      "metadata": {
        "id": "p6McnlmQ66a0"
      },
      "source": [
        "#######\n",
        "# TRAIN\n",
        "#######\n",
        "# Data Labeling - generate column RUL(Remaining Usefull Life or Time to Failure)\n",
        "rul = pd.DataFrame(df.groupby('id')['runtime'].max()).reset_index()\n",
        "rul.columns = ['id', 'max']\n",
        "df = df.merge(rul, on=['id'], how='left')\n",
        "df['RUL'] = df['max'] - df['runtime']\n",
        "df.drop('max', axis=1, inplace=True)\n",
        "\n",
        "# gerar colunas de rótulo para dados de treinamento\n",
        "# só faremos uso de \"label1\" para classificação binária,\n",
        "w1 = 25\n",
        "w0 = 15\n",
        "df['label1'] = np.where(df['RUL'] <= w1, 1, 0 )\n",
        "df['label2'] = df['label1']\n",
        "df.loc[df['RUL'] <= w0, 'label2'] = 2\n",
        "\n",
        "# MinMax normalization\n",
        "df['cycle_norm'] = df['runtime']\n",
        "cols_normalize = df.columns.difference(['id','runtime','RUL','label1','label2'])\n",
        "min_max_scaler = preprocessing.MinMaxScaler()\n",
        "norm_train_df = pd.DataFrame(min_max_scaler.fit_transform(df[cols_normalize]), \n",
        "                             columns=cols_normalize, \n",
        "                             index=df.index)\n",
        "join_df = df[df.columns.difference(cols_normalize)].join(norm_train_df)\n",
        "df = join_df.reindex(columns = df.columns)"
      ],
      "execution_count": null,
      "outputs": []
    },
    {
      "cell_type": "code",
      "metadata": {
        "id": "hDd2ohdz_iJe"
      },
      "source": [
        "# Separando os dados de PM_training para Treino e Teste.\n",
        "units = df['id'].unique()\n",
        "n_units = len(df['id'].unique())\n",
        "\n",
        "units_test = random.sample(list(units), int(n_units * 0.2))\n",
        "units_train = [nr for nr in units if nr not in units_test]\n",
        "\n",
        "test_df = df.loc[df['id'].apply( lambda x: x in units_test )].copy()\n",
        "train_df = df.loc[df['id'].apply( lambda x: x in units_train )].copy()"
      ],
      "execution_count": null,
      "outputs": []
    },
    {
      "cell_type": "code",
      "metadata": {
        "id": "GmfRhmYyFG9q"
      },
      "source": [
        "######\n",
        "# TEST\n",
        "######\n",
        "# MinMax normalization (from 0 to 1)\n",
        "# Rotulagem de dados - gerar coluna RUL (vida útil remanescente ou tempo de falha)\n",
        "rul = pd.DataFrame(df_test.groupby('id')['runtime'].max()).reset_index()\n",
        "rul.columns = ['id', 'max']\n",
        "df_test = df_test.merge(rul, on=['id'], how='left')\n",
        "df_test['RUL'] = df_test['max'] - df_test['runtime']\n",
        "df_test.drop('max', axis=1, inplace=True)\n",
        "w1 = 30\n",
        "w0 = 15\n",
        "\n",
        "df_test['label1'] = np.where(df_test['RUL'] <= w1, 1, 0 )\n",
        "df_test['label2'] = df_test['label1']\n",
        "df_test.loc[df_test['RUL'] <= w0, 'label2'] = 2\n",
        "\n",
        "# MinMax normalization (from 0 to 1)\n",
        "df_test['cycle_norm'] = df_test['runtime']\n",
        "cols_normalize = df_test.columns.difference(['id','runtime','RUL','label1','label2'])\n",
        "min_max_scaler = preprocessing.MinMaxScaler()\n",
        "norm_df_test = pd.DataFrame(min_max_scaler.fit_transform(df_test[cols_normalize]), \n",
        "                             columns=cols_normalize, \n",
        "                             index=df_test.index)\n",
        "join_df = df_test[df_test.columns.difference(cols_normalize)].join(norm_df_test)\n",
        "df_test = join_df.reindex(columns = df_test.columns)"
      ],
      "execution_count": null,
      "outputs": []
    },
    {
      "cell_type": "code",
      "metadata": {
        "colab": {
          "base_uri": "https://localhost:8080/",
          "height": 224
        },
        "id": "py2hi55p_dRy",
        "outputId": "686988b2-8cda-4565-b738-3db496b19a33"
      },
      "source": [
        "train_df.head()"
      ],
      "execution_count": null,
      "outputs": [
        {
          "output_type": "execute_result",
          "data": {
            "text/html": [
              "<div>\n",
              "<style scoped>\n",
              "    .dataframe tbody tr th:only-of-type {\n",
              "        vertical-align: middle;\n",
              "    }\n",
              "\n",
              "    .dataframe tbody tr th {\n",
              "        vertical-align: top;\n",
              "    }\n",
              "\n",
              "    .dataframe thead th {\n",
              "        text-align: right;\n",
              "    }\n",
              "</style>\n",
              "<table border=\"1\" class=\"dataframe\">\n",
              "  <thead>\n",
              "    <tr style=\"text-align: right;\">\n",
              "      <th></th>\n",
              "      <th>id</th>\n",
              "      <th>runtime</th>\n",
              "      <th>Setting1</th>\n",
              "      <th>Setting2</th>\n",
              "      <th>Setting3</th>\n",
              "      <th>Tag1</th>\n",
              "      <th>Tag2</th>\n",
              "      <th>Tag3</th>\n",
              "      <th>Tag4</th>\n",
              "      <th>Tag5</th>\n",
              "      <th>Tag6</th>\n",
              "      <th>Tag7</th>\n",
              "      <th>Tag8</th>\n",
              "      <th>Tag9</th>\n",
              "      <th>Tag10</th>\n",
              "      <th>Tag11</th>\n",
              "      <th>Tag12</th>\n",
              "      <th>Tag13</th>\n",
              "      <th>Tag14</th>\n",
              "      <th>Tag15</th>\n",
              "      <th>Tag16</th>\n",
              "      <th>Tag17</th>\n",
              "      <th>Tag18</th>\n",
              "      <th>Tag19</th>\n",
              "      <th>Tag20</th>\n",
              "      <th>Tag21</th>\n",
              "      <th>RUL</th>\n",
              "      <th>label1</th>\n",
              "      <th>label2</th>\n",
              "      <th>cycle_norm</th>\n",
              "    </tr>\n",
              "  </thead>\n",
              "  <tbody>\n",
              "    <tr>\n",
              "      <th>0</th>\n",
              "      <td>1</td>\n",
              "      <td>1</td>\n",
              "      <td>0.459770</td>\n",
              "      <td>0.166667</td>\n",
              "      <td>0.0</td>\n",
              "      <td>0.0</td>\n",
              "      <td>0.183735</td>\n",
              "      <td>0.406802</td>\n",
              "      <td>0.309757</td>\n",
              "      <td>0.0</td>\n",
              "      <td>1.0</td>\n",
              "      <td>0.726248</td>\n",
              "      <td>0.242424</td>\n",
              "      <td>0.109755</td>\n",
              "      <td>0.0</td>\n",
              "      <td>0.369048</td>\n",
              "      <td>0.633262</td>\n",
              "      <td>0.205882</td>\n",
              "      <td>0.199608</td>\n",
              "      <td>0.363986</td>\n",
              "      <td>0.0</td>\n",
              "      <td>0.333333</td>\n",
              "      <td>0.0</td>\n",
              "      <td>0.0</td>\n",
              "      <td>0.713178</td>\n",
              "      <td>0.724662</td>\n",
              "      <td>191</td>\n",
              "      <td>0</td>\n",
              "      <td>0</td>\n",
              "      <td>0.00000</td>\n",
              "    </tr>\n",
              "    <tr>\n",
              "      <th>1</th>\n",
              "      <td>1</td>\n",
              "      <td>2</td>\n",
              "      <td>0.609195</td>\n",
              "      <td>0.250000</td>\n",
              "      <td>0.0</td>\n",
              "      <td>0.0</td>\n",
              "      <td>0.283133</td>\n",
              "      <td>0.453019</td>\n",
              "      <td>0.352633</td>\n",
              "      <td>0.0</td>\n",
              "      <td>1.0</td>\n",
              "      <td>0.628019</td>\n",
              "      <td>0.212121</td>\n",
              "      <td>0.100242</td>\n",
              "      <td>0.0</td>\n",
              "      <td>0.380952</td>\n",
              "      <td>0.765458</td>\n",
              "      <td>0.279412</td>\n",
              "      <td>0.162813</td>\n",
              "      <td>0.411312</td>\n",
              "      <td>0.0</td>\n",
              "      <td>0.333333</td>\n",
              "      <td>0.0</td>\n",
              "      <td>0.0</td>\n",
              "      <td>0.666667</td>\n",
              "      <td>0.731014</td>\n",
              "      <td>190</td>\n",
              "      <td>0</td>\n",
              "      <td>0</td>\n",
              "      <td>0.00277</td>\n",
              "    </tr>\n",
              "    <tr>\n",
              "      <th>2</th>\n",
              "      <td>1</td>\n",
              "      <td>3</td>\n",
              "      <td>0.252874</td>\n",
              "      <td>0.750000</td>\n",
              "      <td>0.0</td>\n",
              "      <td>0.0</td>\n",
              "      <td>0.343373</td>\n",
              "      <td>0.369523</td>\n",
              "      <td>0.370527</td>\n",
              "      <td>0.0</td>\n",
              "      <td>1.0</td>\n",
              "      <td>0.710145</td>\n",
              "      <td>0.272727</td>\n",
              "      <td>0.140043</td>\n",
              "      <td>0.0</td>\n",
              "      <td>0.250000</td>\n",
              "      <td>0.795309</td>\n",
              "      <td>0.220588</td>\n",
              "      <td>0.171793</td>\n",
              "      <td>0.357445</td>\n",
              "      <td>0.0</td>\n",
              "      <td>0.166667</td>\n",
              "      <td>0.0</td>\n",
              "      <td>0.0</td>\n",
              "      <td>0.627907</td>\n",
              "      <td>0.621375</td>\n",
              "      <td>189</td>\n",
              "      <td>0</td>\n",
              "      <td>0</td>\n",
              "      <td>0.00554</td>\n",
              "    </tr>\n",
              "    <tr>\n",
              "      <th>3</th>\n",
              "      <td>1</td>\n",
              "      <td>4</td>\n",
              "      <td>0.540230</td>\n",
              "      <td>0.500000</td>\n",
              "      <td>0.0</td>\n",
              "      <td>0.0</td>\n",
              "      <td>0.343373</td>\n",
              "      <td>0.256159</td>\n",
              "      <td>0.331195</td>\n",
              "      <td>0.0</td>\n",
              "      <td>1.0</td>\n",
              "      <td>0.740741</td>\n",
              "      <td>0.318182</td>\n",
              "      <td>0.124518</td>\n",
              "      <td>0.0</td>\n",
              "      <td>0.166667</td>\n",
              "      <td>0.889126</td>\n",
              "      <td>0.294118</td>\n",
              "      <td>0.174889</td>\n",
              "      <td>0.166603</td>\n",
              "      <td>0.0</td>\n",
              "      <td>0.333333</td>\n",
              "      <td>0.0</td>\n",
              "      <td>0.0</td>\n",
              "      <td>0.573643</td>\n",
              "      <td>0.662386</td>\n",
              "      <td>188</td>\n",
              "      <td>0</td>\n",
              "      <td>0</td>\n",
              "      <td>0.00831</td>\n",
              "    </tr>\n",
              "    <tr>\n",
              "      <th>4</th>\n",
              "      <td>1</td>\n",
              "      <td>5</td>\n",
              "      <td>0.390805</td>\n",
              "      <td>0.333333</td>\n",
              "      <td>0.0</td>\n",
              "      <td>0.0</td>\n",
              "      <td>0.349398</td>\n",
              "      <td>0.257467</td>\n",
              "      <td>0.404625</td>\n",
              "      <td>0.0</td>\n",
              "      <td>1.0</td>\n",
              "      <td>0.668277</td>\n",
              "      <td>0.242424</td>\n",
              "      <td>0.149960</td>\n",
              "      <td>0.0</td>\n",
              "      <td>0.255952</td>\n",
              "      <td>0.746269</td>\n",
              "      <td>0.235294</td>\n",
              "      <td>0.174734</td>\n",
              "      <td>0.402078</td>\n",
              "      <td>0.0</td>\n",
              "      <td>0.416667</td>\n",
              "      <td>0.0</td>\n",
              "      <td>0.0</td>\n",
              "      <td>0.589147</td>\n",
              "      <td>0.704502</td>\n",
              "      <td>187</td>\n",
              "      <td>0</td>\n",
              "      <td>0</td>\n",
              "      <td>0.01108</td>\n",
              "    </tr>\n",
              "  </tbody>\n",
              "</table>\n",
              "</div>"
            ],
            "text/plain": [
              "   id  runtime  Setting1  Setting2  ...  RUL  label1  label2  cycle_norm\n",
              "0   1        1  0.459770  0.166667  ...  191       0       0     0.00000\n",
              "1   1        2  0.609195  0.250000  ...  190       0       0     0.00277\n",
              "2   1        3  0.252874  0.750000  ...  189       0       0     0.00554\n",
              "3   1        4  0.540230  0.500000  ...  188       0       0     0.00831\n",
              "4   1        5  0.390805  0.333333  ...  187       0       0     0.01108\n",
              "\n",
              "[5 rows x 30 columns]"
            ]
          },
          "metadata": {
            "tags": []
          },
          "execution_count": 6
        }
      ]
    },
    {
      "cell_type": "code",
      "metadata": {
        "id": "pX-lFQPO_wUt",
        "colab": {
          "base_uri": "https://localhost:8080/",
          "height": 224
        },
        "outputId": "2cc14fae-ca1b-4379-9f45-9bd9dbb1fa7e"
      },
      "source": [
        "test_df.head()"
      ],
      "execution_count": null,
      "outputs": [
        {
          "output_type": "execute_result",
          "data": {
            "text/html": [
              "<div>\n",
              "<style scoped>\n",
              "    .dataframe tbody tr th:only-of-type {\n",
              "        vertical-align: middle;\n",
              "    }\n",
              "\n",
              "    .dataframe tbody tr th {\n",
              "        vertical-align: top;\n",
              "    }\n",
              "\n",
              "    .dataframe thead th {\n",
              "        text-align: right;\n",
              "    }\n",
              "</style>\n",
              "<table border=\"1\" class=\"dataframe\">\n",
              "  <thead>\n",
              "    <tr style=\"text-align: right;\">\n",
              "      <th></th>\n",
              "      <th>id</th>\n",
              "      <th>runtime</th>\n",
              "      <th>Setting1</th>\n",
              "      <th>Setting2</th>\n",
              "      <th>Setting3</th>\n",
              "      <th>Tag1</th>\n",
              "      <th>Tag2</th>\n",
              "      <th>Tag3</th>\n",
              "      <th>Tag4</th>\n",
              "      <th>Tag5</th>\n",
              "      <th>Tag6</th>\n",
              "      <th>Tag7</th>\n",
              "      <th>Tag8</th>\n",
              "      <th>Tag9</th>\n",
              "      <th>Tag10</th>\n",
              "      <th>Tag11</th>\n",
              "      <th>Tag12</th>\n",
              "      <th>Tag13</th>\n",
              "      <th>Tag14</th>\n",
              "      <th>Tag15</th>\n",
              "      <th>Tag16</th>\n",
              "      <th>Tag17</th>\n",
              "      <th>Tag18</th>\n",
              "      <th>Tag19</th>\n",
              "      <th>Tag20</th>\n",
              "      <th>Tag21</th>\n",
              "      <th>RUL</th>\n",
              "      <th>label1</th>\n",
              "      <th>label2</th>\n",
              "      <th>cycle_norm</th>\n",
              "    </tr>\n",
              "  </thead>\n",
              "  <tbody>\n",
              "    <tr>\n",
              "      <th>1116</th>\n",
              "      <td>6</td>\n",
              "      <td>1</td>\n",
              "      <td>0.390805</td>\n",
              "      <td>0.750000</td>\n",
              "      <td>0.0</td>\n",
              "      <td>0.0</td>\n",
              "      <td>0.457831</td>\n",
              "      <td>0.291258</td>\n",
              "      <td>0.507934</td>\n",
              "      <td>0.0</td>\n",
              "      <td>1.0</td>\n",
              "      <td>0.505636</td>\n",
              "      <td>0.333333</td>\n",
              "      <td>0.069685</td>\n",
              "      <td>0.0</td>\n",
              "      <td>0.422619</td>\n",
              "      <td>0.639659</td>\n",
              "      <td>0.352941</td>\n",
              "      <td>0.087316</td>\n",
              "      <td>0.399000</td>\n",
              "      <td>0.0</td>\n",
              "      <td>0.500000</td>\n",
              "      <td>0.0</td>\n",
              "      <td>0.0</td>\n",
              "      <td>0.620155</td>\n",
              "      <td>0.572218</td>\n",
              "      <td>187</td>\n",
              "      <td>0</td>\n",
              "      <td>0</td>\n",
              "      <td>0.00000</td>\n",
              "    </tr>\n",
              "    <tr>\n",
              "      <th>1117</th>\n",
              "      <td>6</td>\n",
              "      <td>2</td>\n",
              "      <td>0.620690</td>\n",
              "      <td>0.166667</td>\n",
              "      <td>0.0</td>\n",
              "      <td>0.0</td>\n",
              "      <td>0.259036</td>\n",
              "      <td>0.421626</td>\n",
              "      <td>0.318197</td>\n",
              "      <td>0.0</td>\n",
              "      <td>1.0</td>\n",
              "      <td>0.510467</td>\n",
              "      <td>0.287879</td>\n",
              "      <td>0.108678</td>\n",
              "      <td>0.0</td>\n",
              "      <td>0.476190</td>\n",
              "      <td>0.498934</td>\n",
              "      <td>0.279412</td>\n",
              "      <td>0.134534</td>\n",
              "      <td>0.420931</td>\n",
              "      <td>0.0</td>\n",
              "      <td>0.416667</td>\n",
              "      <td>0.0</td>\n",
              "      <td>0.0</td>\n",
              "      <td>0.581395</td>\n",
              "      <td>0.511323</td>\n",
              "      <td>186</td>\n",
              "      <td>0</td>\n",
              "      <td>0</td>\n",
              "      <td>0.00277</td>\n",
              "    </tr>\n",
              "    <tr>\n",
              "      <th>1118</th>\n",
              "      <td>6</td>\n",
              "      <td>3</td>\n",
              "      <td>0.321839</td>\n",
              "      <td>0.583333</td>\n",
              "      <td>0.0</td>\n",
              "      <td>0.0</td>\n",
              "      <td>0.409639</td>\n",
              "      <td>0.373665</td>\n",
              "      <td>0.398548</td>\n",
              "      <td>0.0</td>\n",
              "      <td>1.0</td>\n",
              "      <td>0.468599</td>\n",
              "      <td>0.348485</td>\n",
              "      <td>0.103294</td>\n",
              "      <td>0.0</td>\n",
              "      <td>0.380952</td>\n",
              "      <td>0.637527</td>\n",
              "      <td>0.338235</td>\n",
              "      <td>0.131851</td>\n",
              "      <td>0.316660</td>\n",
              "      <td>0.0</td>\n",
              "      <td>0.333333</td>\n",
              "      <td>0.0</td>\n",
              "      <td>0.0</td>\n",
              "      <td>0.503876</td>\n",
              "      <td>0.444767</td>\n",
              "      <td>185</td>\n",
              "      <td>0</td>\n",
              "      <td>0</td>\n",
              "      <td>0.00554</td>\n",
              "    </tr>\n",
              "    <tr>\n",
              "      <th>1119</th>\n",
              "      <td>6</td>\n",
              "      <td>4</td>\n",
              "      <td>0.534483</td>\n",
              "      <td>0.500000</td>\n",
              "      <td>0.0</td>\n",
              "      <td>0.0</td>\n",
              "      <td>0.228916</td>\n",
              "      <td>0.400262</td>\n",
              "      <td>0.320054</td>\n",
              "      <td>0.0</td>\n",
              "      <td>1.0</td>\n",
              "      <td>0.523349</td>\n",
              "      <td>0.303030</td>\n",
              "      <td>0.068384</td>\n",
              "      <td>0.0</td>\n",
              "      <td>0.315476</td>\n",
              "      <td>0.671642</td>\n",
              "      <td>0.382353</td>\n",
              "      <td>0.088348</td>\n",
              "      <td>0.293574</td>\n",
              "      <td>0.0</td>\n",
              "      <td>0.500000</td>\n",
              "      <td>0.0</td>\n",
              "      <td>0.0</td>\n",
              "      <td>0.534884</td>\n",
              "      <td>0.590030</td>\n",
              "      <td>184</td>\n",
              "      <td>0</td>\n",
              "      <td>0</td>\n",
              "      <td>0.00831</td>\n",
              "    </tr>\n",
              "    <tr>\n",
              "      <th>1120</th>\n",
              "      <td>6</td>\n",
              "      <td>5</td>\n",
              "      <td>0.666667</td>\n",
              "      <td>0.083333</td>\n",
              "      <td>0.0</td>\n",
              "      <td>0.0</td>\n",
              "      <td>0.424699</td>\n",
              "      <td>0.525180</td>\n",
              "      <td>0.462863</td>\n",
              "      <td>0.0</td>\n",
              "      <td>1.0</td>\n",
              "      <td>0.550725</td>\n",
              "      <td>0.378788</td>\n",
              "      <td>0.085794</td>\n",
              "      <td>0.0</td>\n",
              "      <td>0.380952</td>\n",
              "      <td>0.571429</td>\n",
              "      <td>0.441176</td>\n",
              "      <td>0.124677</td>\n",
              "      <td>0.513274</td>\n",
              "      <td>0.0</td>\n",
              "      <td>0.500000</td>\n",
              "      <td>0.0</td>\n",
              "      <td>0.0</td>\n",
              "      <td>0.565891</td>\n",
              "      <td>0.593482</td>\n",
              "      <td>183</td>\n",
              "      <td>0</td>\n",
              "      <td>0</td>\n",
              "      <td>0.01108</td>\n",
              "    </tr>\n",
              "  </tbody>\n",
              "</table>\n",
              "</div>"
            ],
            "text/plain": [
              "      id  runtime  Setting1  Setting2  ...  RUL  label1  label2  cycle_norm\n",
              "1116   6        1  0.390805  0.750000  ...  187       0       0     0.00000\n",
              "1117   6        2  0.620690  0.166667  ...  186       0       0     0.00277\n",
              "1118   6        3  0.321839  0.583333  ...  185       0       0     0.00554\n",
              "1119   6        4  0.534483  0.500000  ...  184       0       0     0.00831\n",
              "1120   6        5  0.666667  0.083333  ...  183       0       0     0.01108\n",
              "\n",
              "[5 rows x 30 columns]"
            ]
          },
          "metadata": {
            "tags": []
          },
          "execution_count": 7
        }
      ]
    },
    {
      "cell_type": "markdown",
      "metadata": {
        "id": "4Wb8_ix_-NXv"
      },
      "source": [
        "##Rede LSTM\n",
        "Em seguida, construímos uma rede profunda. A primeira camada é uma camada LSTM com 100 unidades seguida por outra camada LSTM com 50 unidades. A exclusão também é aplicada após cada camada LSTM para controlar o sobreajuste. A camada final é uma camada de saída Densa com unidade única e ativação sigmóide, uma vez que este é um problema de classificação binária."
      ]
    },
    {
      "cell_type": "code",
      "metadata": {
        "colab": {
          "base_uri": "https://localhost:8080/"
        },
        "id": "Sp8Ye0ku-Mq4",
        "outputId": "7c7a216b-ffcb-4f62-bead-00acb35be0f3"
      },
      "source": [
        "# pick a large window size of 50 cycles\n",
        "sequence_length = 50\n",
        "\n",
        "# function to reshape features into (samples, time steps, features) \n",
        "def gen_sequence(id_df, seq_length, seq_cols):\n",
        "    data_matrix = id_df[seq_cols].values\n",
        "    num_elements = data_matrix.shape[0]\n",
        "    for start, stop in zip(range(0, num_elements-seq_length), range(seq_length, num_elements)):\n",
        "        yield data_matrix[start:stop, :]\n",
        "        \n",
        "# pick the feature columns \n",
        "sensor_cols = ['Tag' + str(i) for i in range(1,22)]\n",
        "sequence_cols = ['Setting1', 'Setting2', 'Setting3', 'cycle_norm']\n",
        "sequence_cols.extend(sensor_cols)\n",
        "\n",
        "# generator for the sequences\n",
        "seq_gen = (list(gen_sequence(train_df[train_df['id']==id], sequence_length, sequence_cols)) \n",
        "           for id in train_df['id'].unique())\n",
        "\n",
        "# generate sequences and convert to numpy array\n",
        "seq_array = np.concatenate(list(seq_gen)).astype(np.float32)\n",
        "seq_array.shape\n",
        "\n",
        "# function to generate labels\n",
        "def gen_labels(id_df, seq_length, label):\n",
        "    data_matrix = id_df[label].values\n",
        "    num_elements = data_matrix.shape[0]\n",
        "    return data_matrix[seq_length:num_elements, :]\n",
        "\n",
        "# generate labels\n",
        "label_gen = [gen_labels(train_df[train_df['id']==id], sequence_length, ['label1']) \n",
        "             for id in train_df['id'].unique()]\n",
        "label_array = np.concatenate(label_gen).astype(np.float32)\n",
        "label_array.shape\n",
        "\n",
        "nb_features = seq_array.shape[2]\n",
        "nb_out = label_array.shape[1]\n",
        "\n",
        "model = Sequential()\n",
        "\n",
        "model.add(LSTM(\n",
        "         input_shape=(sequence_length, nb_features),\n",
        "         units=100,\n",
        "         return_sequences=True))\n",
        "model.add(Dropout(0.2))\n",
        "\n",
        "model.add(LSTM(\n",
        "          units=50,\n",
        "          return_sequences=False))\n",
        "model.add(Dropout(0.2))\n",
        "\n",
        "model.add(Dense(units=nb_out, activation='sigmoid'))\n",
        "model.compile(loss='binary_crossentropy', optimizer='adam', metrics=['accuracy'])\n",
        "\n",
        "print(model.summary())"
      ],
      "execution_count": null,
      "outputs": [
        {
          "output_type": "stream",
          "text": [
            "Model: \"sequential_1\"\n",
            "_________________________________________________________________\n",
            "Layer (type)                 Output Shape              Param #   \n",
            "=================================================================\n",
            "lstm_2 (LSTM)                (None, 50, 100)           50400     \n",
            "_________________________________________________________________\n",
            "dropout_2 (Dropout)          (None, 50, 100)           0         \n",
            "_________________________________________________________________\n",
            "lstm_3 (LSTM)                (None, 50)                30200     \n",
            "_________________________________________________________________\n",
            "dropout_3 (Dropout)          (None, 50)                0         \n",
            "_________________________________________________________________\n",
            "dense_1 (Dense)              (None, 1)                 51        \n",
            "=================================================================\n",
            "Total params: 80,651\n",
            "Trainable params: 80,651\n",
            "Non-trainable params: 0\n",
            "_________________________________________________________________\n",
            "None\n"
          ],
          "name": "stdout"
        }
      ]
    },
    {
      "cell_type": "code",
      "metadata": {
        "colab": {
          "base_uri": "https://localhost:8080/"
        },
        "id": "AobxfDhUH18n",
        "outputId": "de8d054b-4184-400e-8971-1ef2bff141e7"
      },
      "source": [
        "model_path = 'binary_model.h5'\n",
        "# fit the network\n",
        "history = model.fit(seq_array, label_array, epochs=100, batch_size=200, validation_split=0.05, verbose=2,\n",
        "          callbacks = [keras.callbacks.EarlyStopping(monitor='val_loss', min_delta=0, patience=10, verbose=0, mode='min'),\n",
        "                       keras.callbacks.ModelCheckpoint(model_path,monitor='val_loss', save_best_only=True, mode='min', verbose=0)]\n",
        "          )\n",
        "\n",
        "# list all data in history\n",
        "print(history.history.keys())"
      ],
      "execution_count": null,
      "outputs": [
        {
          "output_type": "stream",
          "text": [
            "Epoch 1/100\n",
            "61/61 - 26s - loss: 0.2389 - accuracy: 0.9049 - val_loss: 0.1450 - val_accuracy: 0.9361\n",
            "Epoch 2/100\n",
            "61/61 - 1s - loss: 0.0990 - accuracy: 0.9608 - val_loss: 0.0883 - val_accuracy: 0.9548\n",
            "Epoch 3/100\n",
            "61/61 - 1s - loss: 0.0791 - accuracy: 0.9673 - val_loss: 0.0702 - val_accuracy: 0.9688\n",
            "Epoch 4/100\n",
            "61/61 - 1s - loss: 0.0674 - accuracy: 0.9729 - val_loss: 0.0709 - val_accuracy: 0.9798\n",
            "Epoch 5/100\n",
            "61/61 - 1s - loss: 0.0667 - accuracy: 0.9718 - val_loss: 0.0914 - val_accuracy: 0.9595\n",
            "Epoch 6/100\n",
            "61/61 - 1s - loss: 0.0588 - accuracy: 0.9749 - val_loss: 0.0710 - val_accuracy: 0.9688\n",
            "Epoch 7/100\n",
            "61/61 - 1s - loss: 0.0678 - accuracy: 0.9722 - val_loss: 0.0523 - val_accuracy: 0.9907\n",
            "Epoch 8/100\n",
            "61/61 - 1s - loss: 0.0580 - accuracy: 0.9739 - val_loss: 0.0721 - val_accuracy: 0.9704\n",
            "Epoch 9/100\n",
            "61/61 - 1s - loss: 0.0504 - accuracy: 0.9782 - val_loss: 0.0929 - val_accuracy: 0.9579\n",
            "Epoch 10/100\n",
            "61/61 - 1s - loss: 0.0522 - accuracy: 0.9772 - val_loss: 0.0664 - val_accuracy: 0.9735\n",
            "Epoch 11/100\n",
            "61/61 - 1s - loss: 0.0418 - accuracy: 0.9830 - val_loss: 0.0569 - val_accuracy: 0.9735\n",
            "Epoch 12/100\n",
            "61/61 - 1s - loss: 0.0543 - accuracy: 0.9772 - val_loss: 0.0853 - val_accuracy: 0.9611\n",
            "Epoch 13/100\n",
            "61/61 - 1s - loss: 0.0439 - accuracy: 0.9813 - val_loss: 0.0770 - val_accuracy: 0.9657\n",
            "Epoch 14/100\n",
            "61/61 - 1s - loss: 0.0441 - accuracy: 0.9796 - val_loss: 0.0790 - val_accuracy: 0.9673\n",
            "Epoch 15/100\n",
            "61/61 - 1s - loss: 0.0474 - accuracy: 0.9800 - val_loss: 0.0617 - val_accuracy: 0.9673\n",
            "Epoch 16/100\n",
            "61/61 - 1s - loss: 0.0460 - accuracy: 0.9805 - val_loss: 0.0641 - val_accuracy: 0.9688\n",
            "Epoch 17/100\n",
            "61/61 - 1s - loss: 0.0446 - accuracy: 0.9814 - val_loss: 0.0719 - val_accuracy: 0.9657\n",
            "dict_keys(['loss', 'accuracy', 'val_loss', 'val_accuracy'])\n"
          ],
          "name": "stdout"
        }
      ]
    },
    {
      "cell_type": "markdown",
      "metadata": {
        "id": "Jd5JLnVs-uOB"
      },
      "source": [
        "##Model Evaluation on Test set"
      ]
    },
    {
      "cell_type": "code",
      "metadata": {
        "colab": {
          "base_uri": "https://localhost:8080/",
          "height": 1000
        },
        "id": "jlAeRKIw8eZL",
        "outputId": "277f1ce2-7599-437e-8d71-293088278394"
      },
      "source": [
        "# summarize history for Accuracy\n",
        "fig_acc = plt.figure(figsize=(10, 10))\n",
        "plt.plot(history.history['accuracy'])\n",
        "plt.plot(history.history['val_accuracy'])\n",
        "plt.title('model accuracy')\n",
        "plt.ylabel('accuracy')\n",
        "plt.xlabel('epoch')\n",
        "plt.legend(['train', 'test'], loc='upper left')\n",
        "plt.show()\n",
        "fig_acc.savefig(\"model_accuracy.png\")\n",
        "\n",
        "# summarize history for Loss\n",
        "fig_acc = plt.figure(figsize=(10, 10))\n",
        "plt.plot(history.history['loss'])\n",
        "plt.plot(history.history['val_loss'])\n",
        "plt.title('model loss')\n",
        "plt.ylabel('loss')\n",
        "plt.xlabel('epoch')\n",
        "plt.legend(['train', 'test'], loc='upper left')\n",
        "plt.show()\n",
        "fig_acc.savefig(\"model_loss.png\")\n",
        "\n",
        "# training metrics\n",
        "scores = model.evaluate(seq_array, label_array, verbose=1, batch_size=200)\n",
        "print('Accurracy: {}'.format(scores[1]))\n",
        "\n",
        "# make predictions and compute confusion matrix\n",
        "y_pred = model.predict_classes(seq_array,verbose=1, batch_size=200)\n",
        "y_true = label_array\n",
        "\n",
        "test_set = pd.DataFrame(y_pred)\n",
        "test_set.to_csv('binary_submit_train.csv', index = None)\n",
        "\n",
        "print('Confusion matrix\\n- x-axis is true labels.\\n- y-axis is predicted labels')\n",
        "cm = confusion_matrix(y_true, y_pred)\n",
        "print(cm)\n",
        "\n",
        "# compute precision and recall\n",
        "precision = precision_score(y_true, y_pred)\n",
        "recall = recall_score(y_true, y_pred)\n",
        "print( 'precision = ', precision, '\\n', 'recall = ', recall)"
      ],
      "execution_count": null,
      "outputs": [
        {
          "output_type": "display_data",
          "data": {
            "image/png": "[encoded data removed]",
            "text/plain": [
              "<Figure size 720x720 with 1 Axes>"
            ]
          },
          "metadata": {
            "tags": [],
            "needs_background": "light"
          }
        },
        {
          "output_type": "display_data",
          "data": {
            "image/png": "[encoded data removed]",
            "text/plain": [
              "<Figure size 720x720 with 1 Axes>"
            ]
          },
          "metadata": {
            "tags": [],
            "needs_background": "light"
          }
        },
        {
          "output_type": "stream",
          "text": [
            "65/65 [==============================] - 0s 6ms/step - loss: 0.0395 - accuracy: 0.9828\n",
            "Accurracy: 0.9828406572341919\n"
          ],
          "name": "stdout"
        },
        {
          "output_type": "stream",
          "text": [
            "/usr/local/lib/python3.7/dist-packages/keras/engine/sequential.py:450: UserWarning: `model.predict_classes()` is deprecated and will be removed after 2021-01-01. Please use instead:* `np.argmax(model.predict(x), axis=-1)`,   if your model does multi-class classification   (e.g. if it uses a `softmax` last-layer activation).* `(model.predict(x) > 0.5).astype(\"int32\")`,   if your model does binary classification   (e.g. if it uses a `sigmoid` last-layer activation).\n",
            "  warnings.warn('`model.predict_classes()` is deprecated and '\n"
          ],
          "name": "stderr"
        },
        {
          "output_type": "stream",
          "text": [
            "65/65 [==============================] - 1s 4ms/step\n",
            "Confusion matrix\n",
            "- x-axis is true labels.\n",
            "- y-axis is predicted labels\n",
            "[[10548   193]\n",
            " [   27  2053]]\n",
            "precision =  0.9140694568121104 \n",
            " recall =  0.9870192307692308\n"
          ],
          "name": "stdout"
        }
      ]
    },
    {
      "cell_type": "markdown",
      "metadata": {
        "id": "n9aOgLvX_M5X"
      },
      "source": [
        "## Fazendo Previsões nos dados PM_test"
      ]
    },
    {
      "cell_type": "code",
      "metadata": {
        "colab": {
          "base_uri": "https://localhost:8080/"
        },
        "id": "oAPJ5TRN-3ZU",
        "outputId": "cd808b84-ac0c-4660-c1a1-6aa7fff1376a"
      },
      "source": [
        "#Escolhemos a última sequência para cada id nos dados de teste\n",
        "\n",
        "seq_array_test_last = [df_test[df_test['id']==id][sequence_cols].values[-sequence_length:] \n",
        "                       for id in df_test['id'].unique() if len(df_test[df_test['id']==id]) >= sequence_length]\n",
        "\n",
        "seq_array_test_last = np.asarray(seq_array_test_last).astype(np.float32)\n",
        "y_mask = [len(df_test[df_test['id']==id]) >= sequence_length for id in df_test['id'].unique()]\n",
        "\n",
        "label_array_test_last = df_test.groupby('id')['label1'].nth(-1)[y_mask].values\n",
        "label_array_test_last = label_array_test_last.reshape(label_array_test_last.shape[0],1).astype(np.float32)\n",
        "\n",
        "if os.path.isfile(model_path):\n",
        "    estimator = load_model(model_path)\n",
        "\n",
        "# Fazendo predições e salvadno em csv\n",
        "y_pred_test = estimator.predict_classes(seq_array_test_last)\n",
        "test_set = pd.DataFrame(y_pred_test)\n",
        "test_set.to_csv('binary_submit_test.csv', index = None)"
      ],
      "execution_count": null,
      "outputs": [
        {
          "output_type": "stream",
          "text": [
            "/usr/local/lib/python3.7/dist-packages/keras/engine/sequential.py:450: UserWarning: `model.predict_classes()` is deprecated and will be removed after 2021-01-01. Please use instead:* `np.argmax(model.predict(x), axis=-1)`,   if your model does multi-class classification   (e.g. if it uses a `softmax` last-layer activation).* `(model.predict(x) > 0.5).astype(\"int32\")`,   if your model does binary classification   (e.g. if it uses a `sigmoid` last-layer activation).\n",
            "  warnings.warn('`model.predict_classes()` is deprecated and '\n"
          ],
          "name": "stderr"
        }
      ]
    },
    {
      "cell_type": "markdown",
      "metadata": {
        "id": "lA8PMvd6AnPp"
      },
      "source": [
        "# Regressão\n",
        "\n",
        "\n",
        "Quantos ciclos a mais um mecanismo em serviço vai durar antes de falhar?"
      ]
    },
    {
      "cell_type": "code",
      "metadata": {
        "id": "3s7hsZCUAmf4"
      },
      "source": [
        "import keras\n",
        "import keras.backend as K\n",
        "from keras.layers.core import Activation\n",
        "from keras.models import Sequential,load_model\n",
        "from keras.layers import Dense, Dropout, LSTM\n",
        "\n",
        "import pandas as pd\n",
        "import numpy as np\n",
        "import matplotlib.pyplot as plt\n",
        "import os\n",
        "from sklearn import preprocessing\n",
        "import random\n",
        "np.random.seed(1234)  \n",
        "PYTHONHASHSEED = 0\n",
        "\n",
        "# define path to save model\n",
        "model_path = 'regression_model.h5'"
      ],
      "execution_count": 45,
      "outputs": []
    },
    {
      "cell_type": "code",
      "metadata": {
        "id": "rnTQhEiBS2_u"
      },
      "source": [
        "#Dados de Treino\n",
        "df = pd.read_csv('PM_train.txt', header=None, delimiter=r\"\\s+\", names=names)\n",
        "df = df.sort_values(['id','runtime'])\n",
        "\n",
        "#Dados de Teste\n",
        "df_test = pd.read_csv('PM_test.txt', header=None, delimiter=r\"\\s+\", names=names)"
      ],
      "execution_count": 46,
      "outputs": []
    },
    {
      "cell_type": "code",
      "metadata": {
        "id": "UcUTm2WDTnd6"
      },
      "source": [
        "#######\n",
        "# TRAIN\n",
        "#######\n",
        "# Data Labeling - generate column RUL(Remaining Usefull Life or Time to Failure)\n",
        "rul = pd.DataFrame(df.groupby('id')['runtime'].max()).reset_index()\n",
        "rul.columns = ['id', 'max']\n",
        "df = df.merge(rul, on=['id'], how='left')\n",
        "df['RUL'] = df['max'] - df['runtime']\n",
        "df.drop('max', axis=1, inplace=True)\n",
        "\n",
        "# gerar colunas de rótulo para dados de treinamento\n",
        "# só faremos uso de \"label1\" para classificação binária,\n",
        "w1 = 30\n",
        "w0 = 15\n",
        "df['label1'] = np.where(df['RUL'] <= w1, 1, 0 )\n",
        "df['label2'] = df['label1']\n",
        "df.loc[df['RUL'] <= w0, 'label2'] = 2\n",
        "\n",
        "# MinMax normalization\n",
        "df['cycle_norm'] = df['runtime']\n",
        "cols_normalize = df.columns.difference(['id','runtime','RUL','label1','label2'])\n",
        "min_max_scaler = preprocessing.MinMaxScaler()\n",
        "norm_train_df = pd.DataFrame(min_max_scaler.fit_transform(df[cols_normalize]), \n",
        "                             columns=cols_normalize, \n",
        "                             index=df.index)\n",
        "join_df = df[df.columns.difference(cols_normalize)].join(norm_train_df)\n",
        "df = join_df.reindex(columns = df.columns)"
      ],
      "execution_count": 35,
      "outputs": []
    },
    {
      "cell_type": "code",
      "metadata": {
        "id": "_qAjjessTxeg"
      },
      "source": [
        "# Separando os dados de PM_training para Treino e Teste.\n",
        "units = df['id'].unique()\n",
        "n_units = len(df['id'].unique())\n",
        "\n",
        "units_test = random.sample(list(units), int(n_units * 0.2))\n",
        "units_train = [nr for nr in units if nr not in units_test]\n",
        "\n",
        "test_df = df.loc[df['id'].apply( lambda x: x in units_test )].copy()\n",
        "train_df = df.loc[df['id'].apply( lambda x: x in units_train )].copy()"
      ],
      "execution_count": 36,
      "outputs": []
    },
    {
      "cell_type": "code",
      "metadata": {
        "id": "VUy53tbSTxm0"
      },
      "source": [
        "######\n",
        "# TEST\n",
        "######\n",
        "# MinMax normalization (from 0 to 1)\n",
        "# Rotulagem de dados - gerar coluna RUL (vida útil remanescente ou tempo de falha)\n",
        "rul = pd.DataFrame(df_test.groupby('id')['runtime'].max()).reset_index()\n",
        "rul.columns = ['id', 'max']\n",
        "df_test = df_test.merge(rul, on=['id'], how='left')\n",
        "df_test['RUL'] = df_test['max'] - df_test['runtime']\n",
        "df_test.drop('max', axis=1, inplace=True)\n",
        "w1 = 30\n",
        "w0 = 15\n",
        "\n",
        "df_test['label1'] = np.where(df_test['RUL'] <= w1, 1, 0 )\n",
        "df_test['label2'] = df_test['label1']\n",
        "df_test.loc[df_test['RUL'] <= w0, 'label2'] = 2\n",
        "\n",
        "# MinMax normalization (from 0 to 1)\n",
        "df_test['cycle_norm'] = df_test['runtime']\n",
        "cols_normalize = df_test.columns.difference(['id','runtime','RUL','label1','label2'])\n",
        "min_max_scaler = preprocessing.MinMaxScaler()\n",
        "norm_df_test = pd.DataFrame(min_max_scaler.fit_transform(df_test[cols_normalize]), \n",
        "                             columns=cols_normalize, \n",
        "                             index=df_test.index)\n",
        "join_df = df_test[df_test.columns.difference(cols_normalize)].join(norm_df_test)\n",
        "df_test = join_df.reindex(columns = df_test.columns)"
      ],
      "execution_count": 37,
      "outputs": []
    },
    {
      "cell_type": "code",
      "metadata": {
        "id": "GdrB_lGNU07T",
        "colab": {
          "base_uri": "https://localhost:8080/"
        },
        "outputId": "f8828d2f-ea82-4fa5-91af-27938fb81391"
      },
      "source": [
        "# function to reshape features into (samples, time steps, features) \n",
        "def gen_sequence(id_df, seq_length, seq_cols):\n",
        "    \"\"\" Apenas as sequências que atendem ao comprimento da janela são consideradas, \n",
        "     nenhum preenchimento é usado. Isso significa para o teste precisamos eliminar \n",
        "     aqueles que estão abaixo do comprimento da janela. Uma alternativa seria preencher \n",
        "     as sequências para que podemos usar os mais curtos \"\"\"\n",
        "    # for one id I put all the rows in a single matrix\n",
        "    data_matrix = id_df[seq_cols].values\n",
        "    num_elements = data_matrix.shape[0]\n",
        "    for start, stop in zip(range(0, num_elements-seq_length), range(seq_length, num_elements)):\n",
        "        yield data_matrix[start:stop, :]\n",
        "        \n",
        "# pick the feature columns \n",
        "sensor_cols = ['Tag' + str(i) for i in range(1,22)]\n",
        "sequence_cols = ['Setting1', 'Setting2', 'Setting3', 'cycle_norm']\n",
        "sequence_cols.extend(sensor_cols)\n",
        "\n",
        "val=list(gen_sequence(train_df[train_df['id']==1], sequence_length, sequence_cols))\n",
        "print(len(val))\n",
        "\n",
        "# generator for the sequences\n",
        "# transform each id of the train dataset in a sequence\n",
        "seq_gen = (list(gen_sequence(train_df[train_df['id']==id], sequence_length, sequence_cols)) \n",
        "           for id in train_df['id'].unique())\n",
        "\n",
        "# generate sequences and convert to numpy array\n",
        "seq_array = np.concatenate(list(seq_gen)).astype(np.float32)\n",
        "print(seq_array.shape)\n",
        "\n",
        "# function to generate labels\n",
        "def gen_labels(id_df, seq_length, label):\n",
        "    data_matrix = id_df[label].values\n",
        "    num_elements = data_matrix.shape[0]\n",
        "    return data_matrix[seq_length:num_elements, :]\n",
        "\n",
        "# generate labels\n",
        "label_gen = [gen_labels(train_df[train_df['id']==id], sequence_length, ['RUL']) \n",
        "             for id in train_df['id'].unique()]\n",
        "\n",
        "label_array = np.concatenate(label_gen).astype(np.float32)\n",
        "label_array.shape"
      ],
      "execution_count": 38,
      "outputs": [
        {
          "output_type": "stream",
          "text": [
            "142\n",
            "(12151, 50, 25)\n"
          ],
          "name": "stdout"
        },
        {
          "output_type": "execute_result",
          "data": {
            "text/plain": [
              "(12151, 1)"
            ]
          },
          "metadata": {
            "tags": []
          },
          "execution_count": 38
        }
      ]
    },
    {
      "cell_type": "markdown",
      "metadata": {
        "id": "nZXe09ZZA0bn"
      },
      "source": [
        "##LSTM"
      ]
    },
    {
      "cell_type": "code",
      "metadata": {
        "colab": {
          "base_uri": "https://localhost:8080/"
        },
        "id": "SJpVdhhYDeiS",
        "outputId": "154eef90-91dd-4da6-9af9-037e2f9e4756"
      },
      "source": [
        "def r2_keras(y_true, y_pred):\n",
        "    SS_res =  K.sum(K.square( y_true - y_pred ))\n",
        "    SS_tot = K.sum(K.square( y_true - K.mean(y_true) ) )\n",
        "    return ( 1 - SS_res/(SS_tot + K.epsilon()) )\n",
        "\n",
        "nb_features = seq_array.shape[2]\n",
        "nb_out = label_array.shape[1]\n",
        "\n",
        "model = Sequential()\n",
        "model.add(LSTM(\n",
        "         input_shape=(sequence_length, nb_features),\n",
        "         units=100,\n",
        "         return_sequences=True))\n",
        "model.add(Dropout(0.2))\n",
        "model.add(LSTM(\n",
        "          units=50,\n",
        "          return_sequences=False))\n",
        "model.add(Dropout(0.2))\n",
        "model.add(Dense(units=nb_out))\n",
        "model.add(Activation(\"linear\"))\n",
        "model.compile(loss='mean_squared_error', optimizer='rmsprop',metrics=['mae',r2_keras])\n",
        "\n",
        "print(model.summary())"
      ],
      "execution_count": 39,
      "outputs": [
        {
          "output_type": "stream",
          "text": [
            "Model: \"sequential_4\"\n",
            "_________________________________________________________________\n",
            "Layer (type)                 Output Shape              Param #   \n",
            "=================================================================\n",
            "lstm_8 (LSTM)                (None, 50, 100)           50400     \n",
            "_________________________________________________________________\n",
            "dropout_8 (Dropout)          (None, 50, 100)           0         \n",
            "_________________________________________________________________\n",
            "lstm_9 (LSTM)                (None, 50)                30200     \n",
            "_________________________________________________________________\n",
            "dropout_9 (Dropout)          (None, 50)                0         \n",
            "_________________________________________________________________\n",
            "dense_4 (Dense)              (None, 1)                 51        \n",
            "_________________________________________________________________\n",
            "activation_2 (Activation)    (None, 1)                 0         \n",
            "=================================================================\n",
            "Total params: 80,651\n",
            "Trainable params: 80,651\n",
            "Non-trainable params: 0\n",
            "_________________________________________________________________\n",
            "None\n"
          ],
          "name": "stdout"
        }
      ]
    },
    {
      "cell_type": "code",
      "metadata": {
        "colab": {
          "base_uri": "https://localhost:8080/"
        },
        "id": "0LP-UIFcYPcn",
        "outputId": "791a5c35-59c3-483b-e2db-26f7c81e8d7b"
      },
      "source": [
        "history = model.fit(seq_array, label_array, epochs=100, batch_size=200, validation_split=0.05, verbose=2,\n",
        "          callbacks = [keras.callbacks.EarlyStopping(monitor='val_loss', min_delta=0, patience=10, verbose=0, mode='min'),\n",
        "                       keras.callbacks.ModelCheckpoint(model_path,monitor='val_loss', save_best_only=True, mode='min', verbose=0)]\n",
        "          )\n",
        "print(history.history.keys())"
      ],
      "execution_count": 40,
      "outputs": [
        {
          "output_type": "stream",
          "text": [
            "Epoch 1/100\n",
            "58/58 - 6s - loss: 8585.4463 - mae: 74.2085 - r2_keras: -1.7223e+00 - val_loss: 4423.9014 - val_mae: 53.7625 - val_r2_keras: -4.9833e+00\n",
            "Epoch 2/100\n",
            "58/58 - 1s - loss: 7993.5200 - mae: 70.6704 - r2_keras: -1.5403e+00 - val_loss: 4120.7583 - val_mae: 51.4852 - val_r2_keras: -7.7537e+00\n",
            "Epoch 3/100\n",
            "58/58 - 1s - loss: 7587.7427 - mae: 68.3118 - r2_keras: -1.4011e+00 - val_loss: 3840.0422 - val_mae: 49.3883 - val_r2_keras: -1.1307e+01\n",
            "Epoch 4/100\n",
            "58/58 - 1s - loss: 7209.1177 - mae: 66.0876 - r2_keras: -1.2832e+00 - val_loss: 3576.6292 - val_mae: 47.4334 - val_r2_keras: -1.5680e+01\n",
            "Epoch 5/100\n",
            "58/58 - 1s - loss: 6850.5352 - mae: 63.9913 - r2_keras: -1.1666e+00 - val_loss: 3330.0664 - val_mae: 45.6173 - val_r2_keras: -2.0880e+01\n",
            "Epoch 6/100\n",
            "58/58 - 1s - loss: 6504.7798 - mae: 62.0189 - r2_keras: -1.0575e+00 - val_loss: 3100.1758 - val_mae: 43.9392 - val_r2_keras: -2.6917e+01\n",
            "Epoch 7/100\n",
            "58/58 - 1s - loss: 6170.4390 - mae: 60.0963 - r2_keras: -9.4929e-01 - val_loss: 2888.1755 - val_mae: 42.4080 - val_r2_keras: -3.3755e+01\n",
            "Epoch 8/100\n",
            "58/58 - 1s - loss: 5871.4150 - mae: 58.3906 - r2_keras: -8.5772e-01 - val_loss: 2694.2610 - val_mae: 41.0245 - val_r2_keras: -4.1372e+01\n",
            "Epoch 9/100\n",
            "58/58 - 1s - loss: 5573.0439 - mae: 56.7093 - r2_keras: -7.6680e-01 - val_loss: 2515.4243 - val_mae: 39.7669 - val_r2_keras: -4.9896e+01\n",
            "Epoch 10/100\n",
            "58/58 - 1s - loss: 5295.5757 - mae: 55.1853 - r2_keras: -6.7688e-01 - val_loss: 2355.8997 - val_mae: 38.6654 - val_r2_keras: -5.9118e+01\n",
            "Epoch 11/100\n",
            "58/58 - 1s - loss: 5043.7764 - mae: 53.7758 - r2_keras: -5.9394e-01 - val_loss: 2212.5349 - val_mae: 37.6975 - val_r2_keras: -6.9199e+01\n",
            "Epoch 12/100\n",
            "58/58 - 1s - loss: 4800.5757 - mae: 52.4406 - r2_keras: -5.1706e-01 - val_loss: 2086.3525 - val_mae: 36.8705 - val_r2_keras: -8.0074e+01\n",
            "Epoch 13/100\n",
            "58/58 - 1s - loss: 4568.4639 - mae: 51.1876 - r2_keras: -4.4234e-01 - val_loss: 1978.1774 - val_mae: 36.1890 - val_r2_keras: -9.1628e+01\n",
            "Epoch 14/100\n",
            "58/58 - 1s - loss: 4360.2944 - mae: 50.0587 - r2_keras: -3.7827e-01 - val_loss: 1885.4937 - val_mae: 35.6374 - val_r2_keras: -1.0414e+02\n",
            "Epoch 15/100\n",
            "58/58 - 1s - loss: 4177.1348 - mae: 49.0950 - r2_keras: -3.1895e-01 - val_loss: 1810.7245 - val_mae: 35.2296 - val_r2_keras: -1.1726e+02\n",
            "Epoch 16/100\n",
            "58/58 - 1s - loss: 4005.3047 - mae: 48.2570 - r2_keras: -2.6521e-01 - val_loss: 1751.9038 - val_mae: 34.9552 - val_r2_keras: -1.3133e+02\n",
            "Epoch 17/100\n",
            "58/58 - 1s - loss: 3850.2725 - mae: 47.4789 - r2_keras: -2.1456e-01 - val_loss: 1710.4965 - val_mae: 34.8218 - val_r2_keras: -1.4592e+02\n",
            "Epoch 18/100\n",
            "58/58 - 1s - loss: 3726.4871 - mae: 46.9254 - r2_keras: -1.7662e-01 - val_loss: 1685.4269 - val_mae: 34.8209 - val_r2_keras: -1.6116e+02\n",
            "Epoch 19/100\n",
            "58/58 - 1s - loss: 3606.7539 - mae: 46.4279 - r2_keras: -1.3871e-01 - val_loss: 1676.2881 - val_mae: 34.9483 - val_r2_keras: -1.7699e+02\n",
            "Epoch 20/100\n",
            "58/58 - 1s - loss: 3500.6113 - mae: 45.9618 - r2_keras: -1.0487e-01 - val_loss: 1682.8878 - val_mae: 35.1938 - val_r2_keras: -1.9375e+02\n",
            "Epoch 21/100\n",
            "58/58 - 1s - loss: 3414.5964 - mae: 45.6030 - r2_keras: -7.8622e-02 - val_loss: 1703.9481 - val_mae: 35.5240 - val_r2_keras: -2.1041e+02\n",
            "Epoch 22/100\n",
            "58/58 - 1s - loss: 3346.6096 - mae: 45.4660 - r2_keras: -5.5639e-02 - val_loss: 1739.0288 - val_mae: 35.9470 - val_r2_keras: -2.2759e+02\n",
            "Epoch 23/100\n",
            "58/58 - 1s - loss: 3294.2078 - mae: 45.3079 - r2_keras: -3.9287e-02 - val_loss: 1784.5316 - val_mae: 36.4237 - val_r2_keras: -2.4425e+02\n",
            "Epoch 24/100\n",
            "58/58 - 1s - loss: 3262.2839 - mae: 45.3332 - r2_keras: -2.9009e-02 - val_loss: 1837.2665 - val_mae: 36.9355 - val_r2_keras: -2.6009e+02\n",
            "Epoch 25/100\n",
            "58/58 - 1s - loss: 3241.4028 - mae: 45.3951 - r2_keras: -2.3137e-02 - val_loss: 1892.3107 - val_mae: 37.4419 - val_r2_keras: -2.7445e+02\n",
            "Epoch 26/100\n",
            "58/58 - 1s - loss: 3218.7168 - mae: 45.4406 - r2_keras: -1.6276e-02 - val_loss: 1933.3615 - val_mae: 37.8075 - val_r2_keras: -2.8421e+02\n",
            "Epoch 27/100\n",
            "58/58 - 1s - loss: 3214.7400 - mae: 45.4578 - r2_keras: -1.5928e-02 - val_loss: 1960.8707 - val_mae: 38.0488 - val_r2_keras: -2.9040e+02\n",
            "Epoch 28/100\n",
            "58/58 - 1s - loss: 3218.7747 - mae: 45.5689 - r2_keras: -1.7373e-02 - val_loss: 1972.7146 - val_mae: 38.1505 - val_r2_keras: -2.9300e+02\n",
            "Epoch 29/100\n",
            "58/58 - 1s - loss: 3215.7744 - mae: 45.5166 - r2_keras: -1.4836e-02 - val_loss: 1984.2185 - val_mae: 38.2508 - val_r2_keras: -2.9548e+02\n",
            "dict_keys(['loss', 'mae', 'r2_keras', 'val_loss', 'val_mae', 'val_r2_keras'])\n"
          ],
          "name": "stdout"
        }
      ]
    },
    {
      "cell_type": "markdown",
      "metadata": {
        "id": "T1y_6k8wLe5x"
      },
      "source": [
        "## Model Evaluation on Test set"
      ]
    },
    {
      "cell_type": "code",
      "metadata": {
        "colab": {
          "base_uri": "https://localhost:8080/",
          "height": 1000
        },
        "id": "o3Xpf_4KLMee",
        "outputId": "32793858-52e9-4ab0-d3dd-7296404bc731"
      },
      "source": [
        "# summarize history for R^2\n",
        "fig_acc = plt.figure(figsize=(10, 10))\n",
        "plt.plot(history.history['r2_keras'])\n",
        "plt.plot(history.history['val_r2_keras'])\n",
        "plt.title('model r^2')\n",
        "plt.ylabel('R^2')\n",
        "plt.xlabel('epoch')\n",
        "plt.legend(['train', 'test'], loc='upper left')\n",
        "plt.show()\n",
        "fig_acc.savefig(\"model_r2.png\")\n",
        "\n",
        "# summarize history for MAE\n",
        "fig_acc = plt.figure(figsize=(10, 10))\n",
        "plt.plot(history.history['mae'])\n",
        "plt.plot(history.history['val_mae'])\n",
        "plt.title('model MAE')\n",
        "plt.ylabel('MAE')\n",
        "plt.xlabel('epoch')\n",
        "plt.legend(['train', 'test'], loc='upper left')\n",
        "plt.show()\n",
        "fig_acc.savefig(\"model_mae.png\")\n",
        "\n",
        "# summarize history for Loss\n",
        "fig_acc = plt.figure(figsize=(10, 10))\n",
        "plt.plot(history.history['loss'])\n",
        "plt.plot(history.history['val_loss'])\n",
        "plt.title('model loss')\n",
        "plt.ylabel('loss')\n",
        "plt.xlabel('epoch')\n",
        "plt.legend(['train', 'test'], loc='upper left')\n",
        "plt.show()\n",
        "fig_acc.savefig(\"model_regression_loss.png\")\n",
        "\n",
        "# training metrics\n",
        "scores = model.evaluate(seq_array, label_array, verbose=1, batch_size=200)\n",
        "print('\\nMAE: {}'.format(scores[1]))\n",
        "print('\\nR^2: {}'.format(scores[2]))\n",
        "\n",
        "y_pred = model.predict(seq_array,verbose=1, batch_size=200)\n",
        "y_true = label_array\n",
        "\n",
        "test_set = pd.DataFrame(y_pred)\n",
        "test_set.to_csv('submit_train.csv', index = None)"
      ],
      "execution_count": 41,
      "outputs": [
        {
          "output_type": "display_data",
          "data": {
            "image/png": "[encoded data removed]",
            "text/plain": [
              "<Figure size 720x720 with 1 Axes>"
            ]
          },
          "metadata": {
            "tags": [],
            "needs_background": "light"
          }
        },
        {
          "output_type": "display_data",
          "data": {
            "image/png": "[encoded data removed]",
            "text/plain": [
              "<Figure size 720x720 with 1 Axes>"
            ]
          },
          "metadata": {
            "tags": [],
            "needs_background": "light"
          }
        },
        {
          "output_type": "display_data",
          "data": {
            "image/png": "[encoded data removed]",
            "text/plain": [
              "<Figure size 720x720 with 1 Axes>"
            ]
          },
          "metadata": {
            "tags": [],
            "needs_background": "light"
          }
        },
        {
          "output_type": "stream",
          "text": [
            "61/61 [==============================] - 0s 6ms/step - loss: 3123.0425 - mae: 44.9777 - r2_keras: -0.2413\n",
            "\n",
            "MAE: 44.977657318115234\n",
            "\n",
            "R^2: -0.24125537276268005\n",
            "61/61 [==============================] - 1s 5ms/step\n"
          ],
          "name": "stdout"
        }
      ]
    },
    {
      "cell_type": "markdown",
      "metadata": {
        "id": "A3Kxm6T9MOvd"
      },
      "source": [
        "## Evaluate on Validation set"
      ]
    },
    {
      "cell_type": "code",
      "metadata": {
        "id": "uwgjl9JTMDk1"
      },
      "source": [
        "# Nós escolhemos a última sequência para cada id nos dados de teste\n",
        "seq_array_test_last = [df_test[df_test['id']==id][sequence_cols].values[-sequence_length:] \n",
        "                       for id in df_test['id'].unique() if len(df_test[df_test['id']==id]) >= sequence_length]\n",
        "\n",
        "seq_array_test_last = np.asarray(seq_array_test_last).astype(np.float32)\n",
        "\n",
        "y_mask = [len(df_test[df_test['id']==id]) >= sequence_length for id in df_test['id'].unique()]\n",
        "label_array_test_last = df_test.groupby('id')['RUL'].nth(-1)[y_mask].values\n",
        "label_array_test_last = label_array_test_last.reshape(label_array_test_last.shape[0],1).astype(np.float32)\n",
        "if os.path.isfile(model_path):\n",
        "    estimator = load_model(model_path,custom_objects={'r2_keras': r2_keras})\n",
        "\n",
        "    y_pred_test = estimator.predict(seq_array_test_last)\n",
        "    y_true_test = label_array_test_last\n",
        "\n",
        "    test_set = pd.DataFrame(y_pred_test)\n",
        "    test_set.to_csv('submit_test.csv', index = None)"
      ],
      "execution_count": 42,
      "outputs": []
    },
    {
      "cell_type": "code",
      "metadata": {
        "id": "s90kOjpYZ8sX"
      },
      "source": [
        ""
      ],
      "execution_count": null,
      "outputs": []
    }
  ]
}